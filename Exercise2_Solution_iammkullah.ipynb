{
  "cells": [
    {
      "cell_type": "markdown",
      "metadata": {
        "id": "kG0Y-Yw5NKMb"
      },
      "source": [
        "## Exercise 2\n",
        "In the course you learned how to do classificaiton using Fashion MNIST, a data set containing items of clothing. There's another, similar dataset called MNIST which has items of handwriting -- the digits 0 through 9.\n",
        "\n",
        "Write an MNIST classifier that trains to 99% accuracy or above, and does it without a fixed number of epochs -- i.e. you should stop training once you reach that level of accuracy.\n",
        "\n",
        "Some notes:\n",
        "1. It should succeed in less than 10 epochs, so it is okay to change epochs= to 10, but nothing larger\n",
        "2. When it reaches 99% or greater it should print out the string \"Reached 99% accuracy so cancelling training!\"\n",
        "3. If you add any additional variables, make sure you use the same names as the ones used in the class\n",
        "\n",
        "I've started the code for you below -- how would you finish it? "
      ]
    },
    {
      "cell_type": "code",
      "execution_count": null,
      "metadata": {
        "id": "pmfRIaKlM73k"
      },
      "outputs": [],
      "source": [
        "import tensorflow as tf\n",
        "from os import path, getcwd, chdir\n",
        "\n",
        "# DO NOT CHANGE THE LINE BELOW. If you are developing in a local\n",
        "# environment, then grab mnist.npz from the Coursera Jupyter Notebook\n",
        "# and place it inside a local folder and edit the path to that location\n",
        "#path = f\"{getcwd()}/../tmp2/mnist.npz\""
      ]
    },
    {
      "cell_type": "code",
      "execution_count": null,
      "metadata": {
        "id": "usQ48l88Nxsj"
      },
      "outputs": [],
      "source": [
        "def train_mnist_conv():\n",
        "    # Please write your code only where you are indicated.\n",
        "    # please do not remove model fitting inline comments.\n",
        "\n",
        "    # YOUR CODE STARTS HERE\n",
        "    class myCallback(tf.keras.callbacks.Callback):\n",
        "        def on_epoch_end(self, epoch, logs={}):\n",
        "            if(logs.get('accuracy') > .998):\n",
        "                print(\"\\nReached 99.8% accuracy so cancelling training!\")\n",
        "                self.model.stop_training = True\n",
        "    callbacks = myCallback() \n",
        "    # YOUR CODE ENDS HERE\n",
        "\n",
        "    mnist = tf.keras.datasets.mnist\n",
        "    (training_images, training_labels), (test_images, test_labels) = mnist.load_data()\n",
        "    # YOUR CODE STARTS HERE\n",
        "    training_images=training_images.reshape(60000, 28, 28, 1)\n",
        "    training_images=training_images / 255.0\n",
        "    test_images = test_images.reshape(10000, 28, 28, 1)\n",
        "    test_images=test_images/255.0\n",
        "    # YOUR CODE ENDS HERE\n",
        "\n",
        "    model = tf.keras.models.Sequential([\n",
        "        tf.keras.layers.Conv2D(32, (3,3), activation='relu', input_shape=(28, 28, 1)),\n",
        "        tf.keras.layers.MaxPooling2D(2, 2),\n",
        "            \n",
        "        tf.keras.layers.Conv2D(64, (3,3), activation='relu'),\n",
        "        tf.keras.layers.MaxPooling2D(2,2),\n",
        "        \n",
        "        tf.keras.layers.Flatten(),\n",
        "        tf.keras.layers.Dense(128, activation='relu'),\n",
        "        tf.keras.layers.Dense(10, activation='softmax')\n",
        "        # YOUR CODE ENDS HERE\n",
        "    ])\n",
        "\n",
        "    model.compile(optimizer='adam', loss='sparse_categorical_crossentropy', metrics=['accuracy'])\n",
        "    # model fitting\n",
        "    history = model.fit(\n",
        "        # YOUR CODE STARTS HERE\n",
        "        training_images, training_labels, epochs=15,callbacks=[callbacks] \n",
        "        # YOUR CODE ENDS HERE\n",
        "    )\n",
        "    # model fitting\n",
        "    return history.epoch, history.history['accuracy'][-1]"
      ]
    },
    {
      "cell_type": "code",
      "execution_count": null,
      "metadata": {
        "colab": {
          "base_uri": "https://localhost:8080/"
        },
        "id": "MthO7DzqQQw6",
        "outputId": "a64e378e-7507-4e9d-fe95-84b54a4b49df"
      },
      "outputs": [
        {
          "output_type": "stream",
          "name": "stdout",
          "text": [
            "Epoch 1/15\n",
            "1875/1875 [==============================] - 58s 31ms/step - loss: 0.1240 - accuracy: 0.9624\n",
            "Epoch 2/15\n",
            "1875/1875 [==============================] - 57s 30ms/step - loss: 0.0411 - accuracy: 0.9870\n",
            "Epoch 3/15\n",
            "1875/1875 [==============================] - 57s 30ms/step - loss: 0.0281 - accuracy: 0.9913\n",
            "Epoch 4/15\n",
            "1875/1875 [==============================] - 57s 30ms/step - loss: 0.0202 - accuracy: 0.9935\n",
            "Epoch 5/15\n",
            "1875/1875 [==============================] - 57s 30ms/step - loss: 0.0149 - accuracy: 0.9954\n",
            "Epoch 6/15\n",
            "1875/1875 [==============================] - 57s 30ms/step - loss: 0.0129 - accuracy: 0.9957\n",
            "Epoch 7/15\n",
            "1875/1875 [==============================] - 57s 30ms/step - loss: 0.0087 - accuracy: 0.9971\n",
            "Epoch 8/15\n",
            "1875/1875 [==============================] - 57s 30ms/step - loss: 0.0078 - accuracy: 0.9976\n",
            "Epoch 9/15\n",
            "1875/1875 [==============================] - 57s 31ms/step - loss: 0.0065 - accuracy: 0.9978\n",
            "Epoch 10/15\n",
            "1875/1875 [==============================] - 57s 30ms/step - loss: 0.0067 - accuracy: 0.9978\n",
            "Epoch 11/15\n",
            "1874/1875 [============================>.] - ETA: 0s - loss: 0.0050 - accuracy: 0.9983\n",
            "Reached 99.8% accuracy so cancelling training!\n",
            "1875/1875 [==============================] - 56s 30ms/step - loss: 0.0050 - accuracy: 0.9984\n"
          ]
        }
      ],
      "source": [
        "_,_=train_mnist_conv()"
      ]
    }
  ],
  "metadata": {
    "colab": {
      "name": "Exercise2_Solution_iammkullah.ipynb",
      "provenance": [],
      "toc_visible": true
    },
    "kernelspec": {
      "display_name": "Python 3",
      "name": "python3"
    },
    "language_info": {
      "name": "python"
    }
  },
  "nbformat": 4,
  "nbformat_minor": 0
}